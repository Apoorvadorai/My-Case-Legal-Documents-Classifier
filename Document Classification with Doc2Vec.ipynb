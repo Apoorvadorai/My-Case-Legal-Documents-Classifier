{
 "cells": [
  {
   "cell_type": "code",
   "execution_count": 271,
   "metadata": {},
   "outputs": [],
   "source": [
    "\n",
    "import pandas as pd\n",
    "import numpy as np\n",
    "import matplotlib.pyplot as plt\n",
    "%matplotlib inline\n",
    "\n",
    "## Document to Vector\n",
    "import re\n",
    "from time import time\n",
    "import nltk\n",
    "from nltk.corpus import stopwords\n",
    "from nltk.stem.wordnet import WordNetLemmatizer\n",
    "from nltk.tokenize import sent_tokenize, word_tokenize\n",
    "\n",
    "from gensim.models.doc2vec import Doc2Vec, TaggedDocument\n",
    "from sklearn.model_selection import train_test_split\n",
    "\n",
    "#Model \n",
    "from sklearn.metrics import confusion_matrix, accuracy_score, classification_report, f1_score\n",
    "from sklearn.svm import SVC\n",
    "from sklearn.linear_model import LogisticRegression\n",
    "\n",
    "import matplotlib.pyplot as plt \n",
    "from mpl_toolkits.mplot3d import Axes3D\n",
    "import seaborn as sns\n"
   ]
  },
  {
   "cell_type": "code",
   "execution_count": 2,
   "metadata": {},
   "outputs": [],
   "source": [
    "train_df=pd.read_csv(r'D:\\OneDrive - Northeastern University\\Northeastern University\\Courses\\CS 6120 Natural Language Processing\\Project\\Legal Documents Classification\\Data\\train.csv',index_col=0)\n",
    "test_df=pd.read_csv(r'D:\\OneDrive - Northeastern University\\Northeastern University\\Courses\\CS 6120 Natural Language Processing\\Project\\Legal Documents Classification\\Data\\test.csv',index_col=0)"
   ]
  },
  {
   "cell_type": "code",
   "execution_count": 3,
   "metadata": {},
   "outputs": [],
   "source": [
    "train_df['flag']='train'\n",
    "test_df['flag']='test'\n",
    "all_data_df=pd.concat([train_df,test_df])"
   ]
  },
  {
   "cell_type": "code",
   "execution_count": 5,
   "metadata": {},
   "outputs": [
    {
     "data": {
      "text/plain": [
       "(8419, 12)"
      ]
     },
     "execution_count": 5,
     "metadata": {},
     "output_type": "execute_result"
    }
   ],
   "source": [
    "all_data_df.shape"
   ]
  },
  {
   "cell_type": "code",
   "execution_count": 7,
   "metadata": {},
   "outputs": [],
   "source": [
    "all_data_df['text']=all_data_df['text'].fillna(\"\")"
   ]
  },
  {
   "cell_type": "code",
   "execution_count": 10,
   "metadata": {
    "scrolled": true
   },
   "outputs": [
    {
     "name": "stdout",
     "output_type": "stream",
     "text": [
      "57798628\n"
     ]
    }
   ],
   "source": [
    "print(all_data_df['text'].apply(lambda x: len(x.split(' '))).sum())"
   ]
  },
  {
   "cell_type": "code",
   "execution_count": 12,
   "metadata": {},
   "outputs": [
    {
     "data": {
      "text/plain": [
       "Index(['issue', 'n_min_votes', 'case_name', 'maj_opinion_author',\n",
       "       'decision_date', 'decision_direction', 'n_maj_votes', 'us_cite_id',\n",
       "       'argument_date', 'text', 'issue_area', 'flag'],\n",
       "      dtype='object')"
      ]
     },
     "execution_count": 12,
     "metadata": {},
     "output_type": "execute_result"
    }
   ],
   "source": [
    "all_data_df.columns"
   ]
  },
  {
   "cell_type": "code",
   "execution_count": 62,
   "metadata": {},
   "outputs": [],
   "source": [
    "data_df=all_data_df[['issue','issue_area','flag','text']]"
   ]
  },
  {
   "cell_type": "code",
   "execution_count": 63,
   "metadata": {
    "scrolled": true
   },
   "outputs": [
    {
     "data": {
      "text/html": [
       "<div>\n",
       "<style scoped>\n",
       "    .dataframe tbody tr th:only-of-type {\n",
       "        vertical-align: middle;\n",
       "    }\n",
       "\n",
       "    .dataframe tbody tr th {\n",
       "        vertical-align: top;\n",
       "    }\n",
       "\n",
       "    .dataframe thead th {\n",
       "        text-align: right;\n",
       "    }\n",
       "</style>\n",
       "<table border=\"1\" class=\"dataframe\">\n",
       "  <thead>\n",
       "    <tr style=\"text-align: right;\">\n",
       "      <th></th>\n",
       "      <th>issue</th>\n",
       "      <th>issue_area</th>\n",
       "      <th>flag</th>\n",
       "      <th>text</th>\n",
       "    </tr>\n",
       "  </thead>\n",
       "  <tbody>\n",
       "    <tr>\n",
       "      <th>3026</th>\n",
       "      <td>30130.0</td>\n",
       "      <td>3</td>\n",
       "      <td>train</td>\n",
       "      <td>]\\n, 269]\\n Sol. Gen. Erwin N. Griswold, for a...</td>\n",
       "    </tr>\n",
       "    <tr>\n",
       "      <th>214</th>\n",
       "      <td>90380.0</td>\n",
       "      <td>9</td>\n",
       "      <td>train</td>\n",
       "      <td>Appeal from the Supreme Court of the State of ...</td>\n",
       "    </tr>\n",
       "    <tr>\n",
       "      <th>4817</th>\n",
       "      <td>100030.0</td>\n",
       "      <td>10</td>\n",
       "      <td>train</td>\n",
       "      <td>When Army Sergeant Ridgway and his first wife,...</td>\n",
       "    </tr>\n",
       "    <tr>\n",
       "      <th>4099</th>\n",
       "      <td>10120.0</td>\n",
       "      <td>1</td>\n",
       "      <td>train</td>\n",
       "      <td>Respondent was arrested, arraigned, and commit...</td>\n",
       "    </tr>\n",
       "    <tr>\n",
       "      <th>547</th>\n",
       "      <td>20250.0</td>\n",
       "      <td>2</td>\n",
       "      <td>train</td>\n",
       "      <td>1. Petitioners are veterans entitled to the be...</td>\n",
       "    </tr>\n",
       "    <tr>\n",
       "      <th>...</th>\n",
       "      <td>...</td>\n",
       "      <td>...</td>\n",
       "      <td>...</td>\n",
       "      <td>...</td>\n",
       "    </tr>\n",
       "    <tr>\n",
       "      <th>1175</th>\n",
       "      <td>NaN</td>\n",
       "      <td>-1</td>\n",
       "      <td>test</td>\n",
       "      <td>7 Ill. 2d 138, 130 N. E. 2d 187, affirmed by a...</td>\n",
       "    </tr>\n",
       "    <tr>\n",
       "      <th>5312</th>\n",
       "      <td>10090.0</td>\n",
       "      <td>1</td>\n",
       "      <td>test</td>\n",
       "      <td>Section 12(f) of the Military Selective Servic...</td>\n",
       "    </tr>\n",
       "    <tr>\n",
       "      <th>5214</th>\n",
       "      <td>10050.0</td>\n",
       "      <td>1</td>\n",
       "      <td>test</td>\n",
       "      <td>Acting pursuant to warrants issued on a showin...</td>\n",
       "    </tr>\n",
       "    <tr>\n",
       "      <th>1864</th>\n",
       "      <td>80220.0</td>\n",
       "      <td>8</td>\n",
       "      <td>test</td>\n",
       "      <td>Appellee railroad operates trains solely withi...</td>\n",
       "    </tr>\n",
       "    <tr>\n",
       "      <th>2542</th>\n",
       "      <td>100120.0</td>\n",
       "      <td>10</td>\n",
       "      <td>test</td>\n",
       "      <td>[\\nFootnote *\\n] Together with No. 240, Second...</td>\n",
       "    </tr>\n",
       "  </tbody>\n",
       "</table>\n",
       "<p>8419 rows × 4 columns</p>\n",
       "</div>"
      ],
      "text/plain": [
       "         issue  issue_area   flag  \\\n",
       "3026   30130.0           3  train   \n",
       "214    90380.0           9  train   \n",
       "4817  100030.0          10  train   \n",
       "4099   10120.0           1  train   \n",
       "547    20250.0           2  train   \n",
       "...        ...         ...    ...   \n",
       "1175       NaN          -1   test   \n",
       "5312   10090.0           1   test   \n",
       "5214   10050.0           1   test   \n",
       "1864   80220.0           8   test   \n",
       "2542  100120.0          10   test   \n",
       "\n",
       "                                                   text  \n",
       "3026  ]\\n, 269]\\n Sol. Gen. Erwin N. Griswold, for a...  \n",
       "214   Appeal from the Supreme Court of the State of ...  \n",
       "4817  When Army Sergeant Ridgway and his first wife,...  \n",
       "4099  Respondent was arrested, arraigned, and commit...  \n",
       "547   1. Petitioners are veterans entitled to the be...  \n",
       "...                                                 ...  \n",
       "1175  7 Ill. 2d 138, 130 N. E. 2d 187, affirmed by a...  \n",
       "5312  Section 12(f) of the Military Selective Servic...  \n",
       "5214  Acting pursuant to warrants issued on a showin...  \n",
       "1864  Appellee railroad operates trains solely withi...  \n",
       "2542  [\\nFootnote *\\n] Together with No. 240, Second...  \n",
       "\n",
       "[8419 rows x 4 columns]"
      ]
     },
     "execution_count": 63,
     "metadata": {},
     "output_type": "execute_result"
    }
   ],
   "source": [
    "data_df"
   ]
  },
  {
   "cell_type": "code",
   "execution_count": 64,
   "metadata": {},
   "outputs": [
    {
     "data": {
      "text/plain": [
       "issue         23\n",
       "issue_area     0\n",
       "flag           0\n",
       "text           0\n",
       "dtype: int64"
      ]
     },
     "execution_count": 64,
     "metadata": {},
     "output_type": "execute_result"
    }
   ],
   "source": [
    "#checking missing values\n",
    "data_df.isnull().sum()"
   ]
  },
  {
   "cell_type": "code",
   "execution_count": 65,
   "metadata": {
    "scrolled": true
   },
   "outputs": [
    {
     "name": "stderr",
     "output_type": "stream",
     "text": [
      "C:\\ProgramData\\Anaconda3\\lib\\site-packages\\ipykernel_launcher.py:1: SettingWithCopyWarning: \n",
      "A value is trying to be set on a copy of a slice from a DataFrame.\n",
      "Try using .loc[row_indexer,col_indexer] = value instead\n",
      "\n",
      "See the caveats in the documentation: https://pandas.pydata.org/pandas-docs/stable/user_guide/indexing.html#returning-a-view-versus-a-copy\n",
      "  \"\"\"Entry point for launching an IPython kernel.\n"
     ]
    }
   ],
   "source": [
    "data_df['issue']=data_df['issue'].replace(np.nan,'-1')"
   ]
  },
  {
   "cell_type": "code",
   "execution_count": 66,
   "metadata": {},
   "outputs": [
    {
     "data": {
      "text/plain": [
       "issue         0\n",
       "issue_area    0\n",
       "flag          0\n",
       "text          0\n",
       "dtype: int64"
      ]
     },
     "execution_count": 66,
     "metadata": {},
     "output_type": "execute_result"
    }
   ],
   "source": [
    "#checking missing values\n",
    "data_df.isnull().sum()"
   ]
  },
  {
   "cell_type": "code",
   "execution_count": 67,
   "metadata": {
    "scrolled": true
   },
   "outputs": [
    {
     "name": "stderr",
     "output_type": "stream",
     "text": [
      "C:\\ProgramData\\Anaconda3\\lib\\site-packages\\ipykernel_launcher.py:2: SettingWithCopyWarning: \n",
      "A value is trying to be set on a copy of a slice from a DataFrame.\n",
      "Try using .loc[row_indexer,col_indexer] = value instead\n",
      "\n",
      "See the caveats in the documentation: https://pandas.pydata.org/pandas-docs/stable/user_guide/indexing.html#returning-a-view-versus-a-copy\n",
      "  \n",
      "C:\\ProgramData\\Anaconda3\\lib\\site-packages\\ipykernel_launcher.py:3: SettingWithCopyWarning: \n",
      "A value is trying to be set on a copy of a slice from a DataFrame.\n",
      "Try using .loc[row_indexer,col_indexer] = value instead\n",
      "\n",
      "See the caveats in the documentation: https://pandas.pydata.org/pandas-docs/stable/user_guide/indexing.html#returning-a-view-versus-a-copy\n",
      "  This is separate from the ipykernel package so we can avoid doing imports until\n"
     ]
    }
   ],
   "source": [
    "#changing data type\n",
    "data_df['issue'] = data_df['issue'].astype(int)\n",
    "data_df['text'] = data_df['text'].astype(str)"
   ]
  },
  {
   "cell_type": "code",
   "execution_count": 69,
   "metadata": {},
   "outputs": [],
   "source": [
    "def cleanText(words):\n",
    "    \"\"\"The function to clean text\"\"\"\n",
    "    words = re.sub(\"[^a-zA-Z]\",\" \",words)\n",
    "    text = words.lower().split()\n",
    "    return \" \".join(text)"
   ]
  },
  {
   "cell_type": "code",
   "execution_count": 70,
   "metadata": {},
   "outputs": [
    {
     "name": "stderr",
     "output_type": "stream",
     "text": [
      "C:\\ProgramData\\Anaconda3\\lib\\site-packages\\ipykernel_launcher.py:1: SettingWithCopyWarning: \n",
      "A value is trying to be set on a copy of a slice from a DataFrame.\n",
      "Try using .loc[row_indexer,col_indexer] = value instead\n",
      "\n",
      "See the caveats in the documentation: https://pandas.pydata.org/pandas-docs/stable/user_guide/indexing.html#returning-a-view-versus-a-copy\n",
      "  \"\"\"Entry point for launching an IPython kernel.\n"
     ]
    }
   ],
   "source": [
    "data_df['text']=data_df['text'].apply(cleanText)"
   ]
  },
  {
   "cell_type": "code",
   "execution_count": 71,
   "metadata": {},
   "outputs": [],
   "source": [
    "stop = stopwords.words('english')\n",
    "lem = WordNetLemmatizer()\n",
    "\n",
    "\n",
    "def remove_stopwords(text):\n",
    "    \"\"\"The function to removing stopwords\"\"\"\n",
    "    text = [word.lower() for word in text.split() if word.lower() not in stop]\n",
    "    return \" \".join(text)\n",
    "\n",
    "def word_lem(text):\n",
    "    \"\"\"The function to apply lemmatizing\"\"\"\n",
    "    lem_text = [lem.lemmatize(word) for word in text.split()]\n",
    "    return \" \".join(lem_text)"
   ]
  },
  {
   "cell_type": "code",
   "execution_count": 73,
   "metadata": {},
   "outputs": [
    {
     "name": "stderr",
     "output_type": "stream",
     "text": [
      "[nltk_data] Downloading package wordnet to\n",
      "[nltk_data]     C:\\Users\\WELCOME\\AppData\\Roaming\\nltk_data...\n",
      "[nltk_data]   Unzipping corpora\\wordnet.zip.\n"
     ]
    },
    {
     "data": {
      "text/plain": [
       "True"
      ]
     },
     "execution_count": 73,
     "metadata": {},
     "output_type": "execute_result"
    }
   ],
   "source": [
    "nltk.download('wordnet')"
   ]
  },
  {
   "cell_type": "code",
   "execution_count": 74,
   "metadata": {
    "scrolled": false
   },
   "outputs": [
    {
     "name": "stderr",
     "output_type": "stream",
     "text": [
      "C:\\ProgramData\\Anaconda3\\lib\\site-packages\\ipykernel_launcher.py:1: SettingWithCopyWarning: \n",
      "A value is trying to be set on a copy of a slice from a DataFrame.\n",
      "Try using .loc[row_indexer,col_indexer] = value instead\n",
      "\n",
      "See the caveats in the documentation: https://pandas.pydata.org/pandas-docs/stable/user_guide/indexing.html#returning-a-view-versus-a-copy\n",
      "  \"\"\"Entry point for launching an IPython kernel.\n",
      "C:\\ProgramData\\Anaconda3\\lib\\site-packages\\ipykernel_launcher.py:2: SettingWithCopyWarning: \n",
      "A value is trying to be set on a copy of a slice from a DataFrame.\n",
      "Try using .loc[row_indexer,col_indexer] = value instead\n",
      "\n",
      "See the caveats in the documentation: https://pandas.pydata.org/pandas-docs/stable/user_guide/indexing.html#returning-a-view-versus-a-copy\n",
      "  \n"
     ]
    }
   ],
   "source": [
    "data_df['text']=data_df['text'].apply(remove_stopwords)\n",
    "data_df['text']=data_df['text'].apply(word_lem)"
   ]
  },
  {
   "cell_type": "code",
   "execution_count": 75,
   "metadata": {},
   "outputs": [
    {
     "name": "stderr",
     "output_type": "stream",
     "text": [
      "C:\\ProgramData\\Anaconda3\\lib\\site-packages\\ipykernel_launcher.py:1: SettingWithCopyWarning: \n",
      "A value is trying to be set on a copy of a slice from a DataFrame.\n",
      "Try using .loc[row_indexer,col_indexer] = value instead\n",
      "\n",
      "See the caveats in the documentation: https://pandas.pydata.org/pandas-docs/stable/user_guide/indexing.html#returning-a-view-versus-a-copy\n",
      "  \"\"\"Entry point for launching an IPython kernel.\n"
     ]
    }
   ],
   "source": [
    "data_df['text'] = data_df['text'].astype(str)"
   ]
  },
  {
   "cell_type": "code",
   "execution_count": 77,
   "metadata": {},
   "outputs": [
    {
     "name": "stdout",
     "output_type": "stream",
     "text": [
      "31567800\n"
     ]
    }
   ],
   "source": [
    "print(data_df['text'].apply(lambda x: len(x.split(' '))).sum())"
   ]
  },
  {
   "cell_type": "code",
   "execution_count": 79,
   "metadata": {},
   "outputs": [],
   "source": [
    "#save clean data\n",
    "data_df.to_csv(r'D:\\OneDrive - Northeastern University\\Northeastern University\\Courses\\CS 6120 Natural Language Processing\\Project\\Legal Documents Classification\\Data\\clean_data.csv', encoding='utf-8')"
   ]
  },
  {
   "cell_type": "markdown",
   "metadata": {},
   "source": [
    "## Data Preparation"
   ]
  },
  {
   "cell_type": "code",
   "execution_count": 87,
   "metadata": {},
   "outputs": [],
   "source": [
    "issue_codes=pd.read_csv(r'D:\\OneDrive - Northeastern University\\Northeastern University\\Courses\\CS 6120 Natural Language Processing\\Project\\Legal Documents Classification\\Data\\issue_codes.csv',index_col=0)"
   ]
  },
  {
   "cell_type": "code",
   "execution_count": 89,
   "metadata": {},
   "outputs": [],
   "source": [
    "issue_label=np.arange(len(issue_codes['code']))"
   ]
  },
  {
   "cell_type": "code",
   "execution_count": 92,
   "metadata": {},
   "outputs": [],
   "source": [
    "issue_codes['issue_label']=issue_label"
   ]
  },
  {
   "cell_type": "code",
   "execution_count": 96,
   "metadata": {},
   "outputs": [],
   "source": [
    "issue_codes=issue_codes[['code','issue_label']]"
   ]
  },
  {
   "cell_type": "code",
   "execution_count": 101,
   "metadata": {},
   "outputs": [],
   "source": [
    "data_df=data_df.merge(issue_codes,how='left',left_on='issue',right_on='code')"
   ]
  },
  {
   "cell_type": "code",
   "execution_count": 98,
   "metadata": {},
   "outputs": [
    {
     "data": {
      "text/plain": [
       "(8419, 4)"
      ]
     },
     "execution_count": 98,
     "metadata": {},
     "output_type": "execute_result"
    }
   ],
   "source": [
    "data_df.shape"
   ]
  },
  {
   "cell_type": "code",
   "execution_count": 103,
   "metadata": {},
   "outputs": [
    {
     "data": {
      "text/html": [
       "<div>\n",
       "<style scoped>\n",
       "    .dataframe tbody tr th:only-of-type {\n",
       "        vertical-align: middle;\n",
       "    }\n",
       "\n",
       "    .dataframe tbody tr th {\n",
       "        vertical-align: top;\n",
       "    }\n",
       "\n",
       "    .dataframe thead th {\n",
       "        text-align: right;\n",
       "    }\n",
       "</style>\n",
       "<table border=\"1\" class=\"dataframe\">\n",
       "  <thead>\n",
       "    <tr style=\"text-align: right;\">\n",
       "      <th></th>\n",
       "      <th>issue</th>\n",
       "      <th>issue_area</th>\n",
       "      <th>flag</th>\n",
       "      <th>text</th>\n",
       "      <th>issue_label</th>\n",
       "    </tr>\n",
       "  </thead>\n",
       "  <tbody>\n",
       "    <tr>\n",
       "      <th>0</th>\n",
       "      <td>30130</td>\n",
       "      <td>3</td>\n",
       "      <td>train</td>\n",
       "      <td>sol gen erwin n griswold appellant john g flym...</td>\n",
       "      <td>146.0</td>\n",
       "    </tr>\n",
       "    <tr>\n",
       "      <th>1</th>\n",
       "      <td>90380</td>\n",
       "      <td>9</td>\n",
       "      <td>train</td>\n",
       "      <td>appeal supreme court state oklahoma messrs rob...</td>\n",
       "      <td>263.0</td>\n",
       "    </tr>\n",
       "    <tr>\n",
       "      <th>2</th>\n",
       "      <td>100030</td>\n",
       "      <td>10</td>\n",
       "      <td>train</td>\n",
       "      <td>army sergeant ridgway first wife april granted...</td>\n",
       "      <td>2.0</td>\n",
       "    </tr>\n",
       "    <tr>\n",
       "      <th>3</th>\n",
       "      <td>10120</td>\n",
       "      <td>1</td>\n",
       "      <td>train</td>\n",
       "      <td>respondent arrested arraigned committed jail d...</td>\n",
       "      <td>24.0</td>\n",
       "    </tr>\n",
       "    <tr>\n",
       "      <th>4</th>\n",
       "      <td>20250</td>\n",
       "      <td>2</td>\n",
       "      <td>train</td>\n",
       "      <td>petitioner veteran entitled benefit veteran pr...</td>\n",
       "      <td>117.0</td>\n",
       "    </tr>\n",
       "  </tbody>\n",
       "</table>\n",
       "</div>"
      ],
      "text/plain": [
       "    issue  issue_area   flag  \\\n",
       "0   30130           3  train   \n",
       "1   90380           9  train   \n",
       "2  100030          10  train   \n",
       "3   10120           1  train   \n",
       "4   20250           2  train   \n",
       "\n",
       "                                                text  issue_label  \n",
       "0  sol gen erwin n griswold appellant john g flym...        146.0  \n",
       "1  appeal supreme court state oklahoma messrs rob...        263.0  \n",
       "2  army sergeant ridgway first wife april granted...          2.0  \n",
       "3  respondent arrested arraigned committed jail d...         24.0  \n",
       "4  petitioner veteran entitled benefit veteran pr...        117.0  "
      ]
     },
     "execution_count": 103,
     "metadata": {},
     "output_type": "execute_result"
    }
   ],
   "source": [
    "data_df=data_df.drop(columns=['code'])\n",
    "data_df.head()"
   ]
  },
  {
   "cell_type": "code",
   "execution_count": 104,
   "metadata": {},
   "outputs": [],
   "source": [
    "data_df['issue_label']=data_df['issue_label'].replace(np.nan,'-1')\n",
    "data_df['issue_label'] = data_df['issue_label'].astype(int)"
   ]
  },
  {
   "cell_type": "code",
   "execution_count": 257,
   "metadata": {},
   "outputs": [],
   "source": [
    "issue_area_code=pd.read_csv(r'D:\\OneDrive - Northeastern University\\Northeastern University\\Courses\\CS 6120 Natural Language Processing\\Project\\Legal Documents Classification\\Data\\issue_area_code.csv',index_col=0)"
   ]
  },
  {
   "cell_type": "code",
   "execution_count": 258,
   "metadata": {},
   "outputs": [],
   "source": [
    "issue_area_code['Issue_Area_Label']=issue_area_code['Issue_Area_Label'].replace(np.nan,'No Category')"
   ]
  },
  {
   "cell_type": "code",
   "execution_count": 282,
   "metadata": {},
   "outputs": [],
   "source": [
    "index=list(issue_area_code['Issue_Area_Label'])"
   ]
  },
  {
   "cell_type": "code",
   "execution_count": 106,
   "metadata": {},
   "outputs": [],
   "source": [
    "train_data_df=data_df[data_df['flag']=='train']\n",
    "test_data_df=data_df[data_df['flag']=='test']"
   ]
  },
  {
   "cell_type": "code",
   "execution_count": 109,
   "metadata": {},
   "outputs": [
    {
     "data": {
      "text/plain": [
       "(6735, 5)"
      ]
     },
     "execution_count": 109,
     "metadata": {},
     "output_type": "execute_result"
    }
   ],
   "source": [
    "train_data_df.shape"
   ]
  },
  {
   "cell_type": "code",
   "execution_count": 110,
   "metadata": {},
   "outputs": [
    {
     "data": {
      "text/plain": [
       "(1684, 5)"
      ]
     },
     "execution_count": 110,
     "metadata": {},
     "output_type": "execute_result"
    }
   ],
   "source": [
    "test_data_df.shape"
   ]
  },
  {
   "cell_type": "code",
   "execution_count": 112,
   "metadata": {},
   "outputs": [
    {
     "data": {
      "text/html": [
       "<div>\n",
       "<style scoped>\n",
       "    .dataframe tbody tr th:only-of-type {\n",
       "        vertical-align: middle;\n",
       "    }\n",
       "\n",
       "    .dataframe tbody tr th {\n",
       "        vertical-align: top;\n",
       "    }\n",
       "\n",
       "    .dataframe thead th {\n",
       "        text-align: right;\n",
       "    }\n",
       "</style>\n",
       "<table border=\"1\" class=\"dataframe\">\n",
       "  <thead>\n",
       "    <tr style=\"text-align: right;\">\n",
       "      <th></th>\n",
       "      <th>issue</th>\n",
       "      <th>issue_area</th>\n",
       "      <th>flag</th>\n",
       "      <th>text</th>\n",
       "      <th>issue_label</th>\n",
       "    </tr>\n",
       "  </thead>\n",
       "  <tbody>\n",
       "    <tr>\n",
       "      <th>0</th>\n",
       "      <td>30130</td>\n",
       "      <td>3</td>\n",
       "      <td>train</td>\n",
       "      <td>sol gen erwin n griswold appellant john g flym...</td>\n",
       "      <td>146</td>\n",
       "    </tr>\n",
       "    <tr>\n",
       "      <th>1</th>\n",
       "      <td>90380</td>\n",
       "      <td>9</td>\n",
       "      <td>train</td>\n",
       "      <td>appeal supreme court state oklahoma messrs rob...</td>\n",
       "      <td>263</td>\n",
       "    </tr>\n",
       "    <tr>\n",
       "      <th>2</th>\n",
       "      <td>100030</td>\n",
       "      <td>10</td>\n",
       "      <td>train</td>\n",
       "      <td>army sergeant ridgway first wife april granted...</td>\n",
       "      <td>2</td>\n",
       "    </tr>\n",
       "    <tr>\n",
       "      <th>3</th>\n",
       "      <td>10120</td>\n",
       "      <td>1</td>\n",
       "      <td>train</td>\n",
       "      <td>respondent arrested arraigned committed jail d...</td>\n",
       "      <td>24</td>\n",
       "    </tr>\n",
       "    <tr>\n",
       "      <th>4</th>\n",
       "      <td>20250</td>\n",
       "      <td>2</td>\n",
       "      <td>train</td>\n",
       "      <td>petitioner veteran entitled benefit veteran pr...</td>\n",
       "      <td>117</td>\n",
       "    </tr>\n",
       "  </tbody>\n",
       "</table>\n",
       "</div>"
      ],
      "text/plain": [
       "    issue  issue_area   flag  \\\n",
       "0   30130           3  train   \n",
       "1   90380           9  train   \n",
       "2  100030          10  train   \n",
       "3   10120           1  train   \n",
       "4   20250           2  train   \n",
       "\n",
       "                                                text  issue_label  \n",
       "0  sol gen erwin n griswold appellant john g flym...          146  \n",
       "1  appeal supreme court state oklahoma messrs rob...          263  \n",
       "2  army sergeant ridgway first wife april granted...            2  \n",
       "3  respondent arrested arraigned committed jail d...           24  \n",
       "4  petitioner veteran entitled benefit veteran pr...          117  "
      ]
     },
     "execution_count": 112,
     "metadata": {},
     "output_type": "execute_result"
    }
   ],
   "source": [
    "train_data_df.head()"
   ]
  },
  {
   "cell_type": "markdown",
   "metadata": {},
   "source": [
    "#### Creatting Tagged Documents  with issue label"
   ]
  },
  {
   "cell_type": "code",
   "execution_count": 165,
   "metadata": {},
   "outputs": [],
   "source": [
    "train_tag = train_data_df.apply(lambda x: TaggedDocument(words=word_tokenize(x['text']), tags=[x.issue_area]), axis=1)\n",
    "\n",
    "test_tag = test_data_df.apply(lambda x: TaggedDocument(words=word_tokenize(x['text']), tags=[x.issue_area]), axis=1)"
   ]
  },
  {
   "cell_type": "markdown",
   "metadata": {},
   "source": [
    "#### Doc2Vec Model"
   ]
  },
  {
   "cell_type": "code",
   "execution_count": 166,
   "metadata": {},
   "outputs": [],
   "source": [
    "doc_model = Doc2Vec(dm=0,vector_size=300, window=10, min_count=5, workers=4, alpha=0.025, min_alpha=0.005, sample = 0)\n",
    "               \n",
    "doc_model.build_vocab(train_tag)"
   ]
  },
  {
   "cell_type": "code",
   "execution_count": 167,
   "metadata": {},
   "outputs": [
    {
     "data": {
      "text/plain": [
       "25326958"
      ]
     },
     "execution_count": 167,
     "metadata": {},
     "output_type": "execute_result"
    }
   ],
   "source": [
    "doc_model.corpus_total_words"
   ]
  },
  {
   "cell_type": "code",
   "execution_count": 168,
   "metadata": {},
   "outputs": [],
   "source": [
    "doc_model.train(train_tag, total_examples=doc_model.corpus_count, epochs=30)"
   ]
  },
  {
   "cell_type": "code",
   "execution_count": 169,
   "metadata": {},
   "outputs": [],
   "source": [
    "#save model\n",
    "doc_model.save(r'D:\\OneDrive - Northeastern University\\Northeastern University\\Courses\\CS 6120 Natural Language Processing\\Project\\Legal Documents Classification\\Models\\model.doc2vec')"
   ]
  },
  {
   "cell_type": "markdown",
   "metadata": {},
   "source": [
    "#### Get Vector from the Doc2Vec Model"
   ]
  },
  {
   "cell_type": "code",
   "execution_count": 170,
   "metadata": {},
   "outputs": [],
   "source": [
    "def vector_for_learning(model, input_docs):\n",
    "    sents = input_docs\n",
    "    targets, feature_vectors = zip(*[(doc.tags[0], model.infer_vector(doc.words, steps=20)) for doc in sents])\n",
    "    return targets, feature_vectors"
   ]
  },
  {
   "cell_type": "code",
   "execution_count": 171,
   "metadata": {},
   "outputs": [],
   "source": [
    "y_train, X_train = vector_for_learning(doc_model, train_tag)\n",
    "y_test, X_test = vector_for_learning(doc_model, test_tag)"
   ]
  },
  {
   "cell_type": "markdown",
   "metadata": {},
   "source": [
    "## Modeling"
   ]
  },
  {
   "cell_type": "markdown",
   "metadata": {},
   "source": [
    "## Logistic Regression"
   ]
  },
  {
   "cell_type": "code",
   "execution_count": 172,
   "metadata": {},
   "outputs": [],
   "source": [
    "model_lr = LogisticRegression(multi_class = 'multinomial',class_weight='balanced', solver = 'lbfgs', max_iter = 2000)\n",
    "model_lr.fit(X_train,y_train)\n",
    "y_pred_lr=model_lr.predict(X_test)"
   ]
  },
  {
   "cell_type": "code",
   "execution_count": 173,
   "metadata": {},
   "outputs": [
    {
     "name": "stdout",
     "output_type": "stream",
     "text": [
      "Testing accuracy 0.747624703087886\n",
      "Testing F1 score: 0.7498067855254563\n"
     ]
    }
   ],
   "source": [
    "print('Testing accuracy %s' % accuracy_score(y_test, y_pred_lr))\n",
    "print('Testing F1 score: {}'.format(f1_score(y_test, y_pred_lr, average='weighted')))"
   ]
  },
  {
   "cell_type": "code",
   "execution_count": 242,
   "metadata": {},
   "outputs": [
    {
     "name": "stdout",
     "output_type": "stream",
     "text": [
      "                      precision    recall  f1-score   support\n",
      "\n",
      "         No Category       0.33      1.00      0.50         4\n",
      "  Criminal Procedure       0.85      0.84      0.85       377\n",
      "        Civil Rights       0.73      0.70      0.71       267\n",
      "     First Amendment       0.84      0.83      0.84       153\n",
      "         Due Process       0.59      0.63      0.61        70\n",
      "             Privacy       0.60      0.60      0.60        15\n",
      "           Attorneys       0.70      0.74      0.72        19\n",
      "              Unions       0.66      0.80      0.72        55\n",
      "   Economic Activity       0.80      0.75      0.78       346\n",
      "      Judicial Power       0.63      0.65      0.64       234\n",
      "          Federalism       0.51      0.60      0.55        65\n",
      "Interstate Relations       0.90      0.75      0.82        12\n",
      "    Federal Taxation       0.85      0.80      0.82        64\n",
      "       Miscellaneous       0.50      0.33      0.40         3\n",
      "\n",
      "            accuracy                           0.75      1684\n",
      "           macro avg       0.68      0.72      0.68      1684\n",
      "        weighted avg       0.75      0.75      0.75      1684\n",
      "\n"
     ]
    }
   ],
   "source": [
    "ytest = np.array(y_test)\n",
    "report=classification_report(ytest, y_pred_lr,target_names=index)\n",
    "print(report)"
   ]
  },
  {
   "cell_type": "code",
   "execution_count": 248,
   "metadata": {},
   "outputs": [],
   "source": [
    "report=pd.DataFrame(classification_report(ytest, y_pred_lr,target_names=index,output_dict=True)).transpose()"
   ]
  },
  {
   "cell_type": "code",
   "execution_count": 249,
   "metadata": {
    "scrolled": true
   },
   "outputs": [],
   "source": [
    "report.to_csv(r'D:\\OneDrive - Northeastern University\\Northeastern University\\Courses\\CS 6120 Natural Language Processing\\Project\\Legal Documents Classification\\output\\classification_report.csv')"
   ]
  },
  {
   "cell_type": "code",
   "execution_count": 292,
   "metadata": {},
   "outputs": [
    {
     "data": {
      "image/png": "[encoded data removed]",
      "text/plain": [
       "<Figure size 720x576 with 2 Axes>"
      ]
     },
     "metadata": {},
     "output_type": "display_data"
    }
   ],
   "source": [
    "## confusion matrix\n",
    "data = confusion_matrix(ytest, y_pred_lr)\n",
    "df_cm = pd.DataFrame(data, columns=index, index =index)\n",
    "df_cm.index.name = 'Actual'\n",
    "df_cm.columns.name = 'Predicted'\n",
    "plt.figure(figsize = (10,8))\n",
    "sns.set(font_scale=1.4)#for label size\n",
    "sns.heatmap(df_cm/np.sum(df_cm), cmap=\"Blues\", annot=True,annot_kws={\"size\": 16},fmt='.0%')\n",
    "plt.title('Confusion Matrix')\n",
    "plt.savefig('..\\output\\confusion_matrix.png')"
   ]
  },
  {
   "cell_type": "code",
   "execution_count": null,
   "metadata": {},
   "outputs": [],
   "source": []
  }
 ],
 "metadata": {
  "kernelspec": {
   "display_name": "Python 3",
   "language": "python",
   "name": "python3"
  },
  "language_info": {
   "codemirror_mode": {
    "name": "ipython",
    "version": 3
   },
   "file_extension": ".py",
   "mimetype": "text/x-python",
   "name": "python",
   "nbconvert_exporter": "python",
   "pygments_lexer": "ipython3",
   "version": "3.7.6"
  }
 },
 "nbformat": 4,
 "nbformat_minor": 4
}
