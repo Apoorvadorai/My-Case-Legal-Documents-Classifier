{
 "cells": [
  {
   "cell_type": "code",
   "execution_count": 3,
   "metadata": {},
   "outputs": [
    {
     "name": "stderr",
     "output_type": "stream",
     "text": [
      "C:\\Users\\Naveen\\Anaconda3\\lib\\site-packages\\gensim\\similarities\\__init__.py:15: UserWarning: The gensim.similarities.levenshtein submodule is disabled, because the optional Levenshtein package <https://pypi.org/project/python-Levenshtein/> is unavailable. Install Levenhstein (e.g. `pip install python-Levenshtein`) to suppress this warning.\n",
      "  warnings.warn(msg)\n"
     ]
    }
   ],
   "source": [
    "import pandas as pd\n",
    "import numpy as np\n",
    "import matplotlib.pyplot as plt\n",
    "%matplotlib inline\n",
    "\n",
    "## Document to Vector\n",
    "import re\n",
    "from time import time\n",
    "import nltk\n",
    "from nltk.corpus import stopwords\n",
    "from nltk.stem.wordnet import WordNetLemmatizer\n",
    "from nltk.tokenize import sent_tokenize, word_tokenize\n",
    "\n",
    "from gensim.models.doc2vec import Doc2Vec, TaggedDocument\n",
    "from sklearn.model_selection import train_test_split\n",
    "\n",
    "#Model \n",
    "from sklearn.metrics import confusion_matrix, accuracy_score, classification_report, f1_score\n",
    "from sklearn.svm import SVC\n",
    "from sklearn.linear_model import LogisticRegression\n",
    "\n",
    "import matplotlib.pyplot as plt \n",
    "from mpl_toolkits.mplot3d import Axes3D\n",
    "import seaborn as sns\n",
    "import gensim.models as models\n",
    "from sklearn.linear_model import LogisticRegression\n",
    "from sklearn.metrics import confusion_matrix\n",
    "from sklearn.metrics import plot_confusion_matrix\n",
    "from sklearn.model_selection import train_test_split\n",
    "from sklearn.metrics import classification_report"
   ]
  },
  {
   "cell_type": "code",
   "execution_count": 4,
   "metadata": {},
   "outputs": [],
   "source": [
    "train_df=pd.read_csv(r'train.csv',index_col=0)\n",
    "test_df=pd.read_csv(r'test.csv',index_col=0)"
   ]
  },
  {
   "cell_type": "code",
   "execution_count": 5,
   "metadata": {},
   "outputs": [],
   "source": [
    "train_df['flag']='train'\n",
    "test_df['flag']='test'\n",
    "all_data_df=pd.concat([train_df,test_df])"
   ]
  },
  {
   "cell_type": "code",
   "execution_count": 6,
   "metadata": {},
   "outputs": [],
   "source": [
    "all_data_df['text']=all_data_df['text'].fillna(\"\")"
   ]
  },
  {
   "cell_type": "code",
   "execution_count": 7,
   "metadata": {},
   "outputs": [],
   "source": [
    "data_df=all_data_df[['issue','issue_area','flag','text']]"
   ]
  },
  {
   "cell_type": "code",
   "execution_count": 8,
   "metadata": {},
   "outputs": [
    {
     "data": {
      "text/plain": [
       "issue         23\n",
       "issue_area     0\n",
       "flag           0\n",
       "text           0\n",
       "dtype: int64"
      ]
     },
     "execution_count": 8,
     "metadata": {},
     "output_type": "execute_result"
    }
   ],
   "source": [
    "#checking missing values\n",
    "data_df.isnull().sum()"
   ]
  },
  {
   "cell_type": "code",
   "execution_count": 9,
   "metadata": {},
   "outputs": [
    {
     "name": "stderr",
     "output_type": "stream",
     "text": [
      "C:\\Users\\Naveen\\Anaconda3\\lib\\site-packages\\ipykernel_launcher.py:1: SettingWithCopyWarning: \n",
      "A value is trying to be set on a copy of a slice from a DataFrame.\n",
      "Try using .loc[row_indexer,col_indexer] = value instead\n",
      "\n",
      "See the caveats in the documentation: http://pandas.pydata.org/pandas-docs/stable/user_guide/indexing.html#returning-a-view-versus-a-copy\n",
      "  \"\"\"Entry point for launching an IPython kernel.\n"
     ]
    }
   ],
   "source": [
    "data_df['issue']=data_df['issue'].replace(np.nan,'-1')"
   ]
  },
  {
   "cell_type": "code",
   "execution_count": 10,
   "metadata": {},
   "outputs": [
    {
     "data": {
      "text/plain": [
       "issue         0\n",
       "issue_area    0\n",
       "flag          0\n",
       "text          0\n",
       "dtype: int64"
      ]
     },
     "execution_count": 10,
     "metadata": {},
     "output_type": "execute_result"
    }
   ],
   "source": [
    "#checking missing values\n",
    "data_df.isnull().sum()"
   ]
  },
  {
   "cell_type": "code",
   "execution_count": 11,
   "metadata": {},
   "outputs": [
    {
     "name": "stderr",
     "output_type": "stream",
     "text": [
      "C:\\Users\\Naveen\\Anaconda3\\lib\\site-packages\\ipykernel_launcher.py:2: SettingWithCopyWarning: \n",
      "A value is trying to be set on a copy of a slice from a DataFrame.\n",
      "Try using .loc[row_indexer,col_indexer] = value instead\n",
      "\n",
      "See the caveats in the documentation: http://pandas.pydata.org/pandas-docs/stable/user_guide/indexing.html#returning-a-view-versus-a-copy\n",
      "  \n",
      "C:\\Users\\Naveen\\Anaconda3\\lib\\site-packages\\ipykernel_launcher.py:3: SettingWithCopyWarning: \n",
      "A value is trying to be set on a copy of a slice from a DataFrame.\n",
      "Try using .loc[row_indexer,col_indexer] = value instead\n",
      "\n",
      "See the caveats in the documentation: http://pandas.pydata.org/pandas-docs/stable/user_guide/indexing.html#returning-a-view-versus-a-copy\n",
      "  This is separate from the ipykernel package so we can avoid doing imports until\n"
     ]
    }
   ],
   "source": [
    "#changing data type\n",
    "data_df['issue'] = data_df['issue'].astype(int)\n",
    "data_df['text'] = data_df['text'].astype(str)"
   ]
  },
  {
   "cell_type": "code",
   "execution_count": 12,
   "metadata": {},
   "outputs": [],
   "source": [
    "def cleanText(words):\n",
    "    \"\"\"The function to clean text\"\"\"\n",
    "    words = re.sub(\"[^a-zA-Z]\",\" \",words)\n",
    "    text = words.lower().split()\n",
    "    return \" \".join(text)"
   ]
  },
  {
   "cell_type": "code",
   "execution_count": 13,
   "metadata": {},
   "outputs": [
    {
     "name": "stderr",
     "output_type": "stream",
     "text": [
      "C:\\Users\\Naveen\\Anaconda3\\lib\\site-packages\\ipykernel_launcher.py:1: SettingWithCopyWarning: \n",
      "A value is trying to be set on a copy of a slice from a DataFrame.\n",
      "Try using .loc[row_indexer,col_indexer] = value instead\n",
      "\n",
      "See the caveats in the documentation: http://pandas.pydata.org/pandas-docs/stable/user_guide/indexing.html#returning-a-view-versus-a-copy\n",
      "  \"\"\"Entry point for launching an IPython kernel.\n"
     ]
    }
   ],
   "source": [
    "data_df['text']=data_df['text'].apply(cleanText)"
   ]
  },
  {
   "cell_type": "code",
   "execution_count": 14,
   "metadata": {},
   "outputs": [
    {
     "name": "stderr",
     "output_type": "stream",
     "text": [
      "[nltk_data] Downloading package stopwords to\n",
      "[nltk_data]     C:\\Users\\Naveen\\AppData\\Roaming\\nltk_data...\n",
      "[nltk_data]   Package stopwords is already up-to-date!\n"
     ]
    },
    {
     "data": {
      "text/plain": [
       "True"
      ]
     },
     "execution_count": 14,
     "metadata": {},
     "output_type": "execute_result"
    }
   ],
   "source": [
    "nltk.download('stopwords')"
   ]
  },
  {
   "cell_type": "code",
   "execution_count": 15,
   "metadata": {},
   "outputs": [],
   "source": [
    "stop = stopwords.words('english')\n",
    "lem = WordNetLemmatizer()\n",
    "\n",
    "\n",
    "def remove_stopwords(text):\n",
    "    \"\"\"The function to removing stopwords\"\"\"\n",
    "    text = [word.lower() for word in text.split() if word.lower() not in stop]\n",
    "    return \" \".join(text)\n",
    "\n",
    "def word_lem(text):\n",
    "    \"\"\"The function to apply lemmatizing\"\"\"\n",
    "    lem_text = [lem.lemmatize(word) for word in text.split()]\n",
    "    return \" \".join(lem_text)"
   ]
  },
  {
   "cell_type": "code",
   "execution_count": 16,
   "metadata": {},
   "outputs": [
    {
     "name": "stderr",
     "output_type": "stream",
     "text": [
      "[nltk_data] Downloading package wordnet to\n",
      "[nltk_data]     C:\\Users\\Naveen\\AppData\\Roaming\\nltk_data...\n",
      "[nltk_data]   Package wordnet is already up-to-date!\n"
     ]
    },
    {
     "data": {
      "text/plain": [
       "True"
      ]
     },
     "execution_count": 16,
     "metadata": {},
     "output_type": "execute_result"
    }
   ],
   "source": [
    "nltk.download('wordnet')"
   ]
  },
  {
   "cell_type": "code",
   "execution_count": 17,
   "metadata": {},
   "outputs": [
    {
     "name": "stderr",
     "output_type": "stream",
     "text": [
      "C:\\Users\\Naveen\\Anaconda3\\lib\\site-packages\\ipykernel_launcher.py:1: SettingWithCopyWarning: \n",
      "A value is trying to be set on a copy of a slice from a DataFrame.\n",
      "Try using .loc[row_indexer,col_indexer] = value instead\n",
      "\n",
      "See the caveats in the documentation: http://pandas.pydata.org/pandas-docs/stable/user_guide/indexing.html#returning-a-view-versus-a-copy\n",
      "  \"\"\"Entry point for launching an IPython kernel.\n",
      "C:\\Users\\Naveen\\Anaconda3\\lib\\site-packages\\ipykernel_launcher.py:2: SettingWithCopyWarning: \n",
      "A value is trying to be set on a copy of a slice from a DataFrame.\n",
      "Try using .loc[row_indexer,col_indexer] = value instead\n",
      "\n",
      "See the caveats in the documentation: http://pandas.pydata.org/pandas-docs/stable/user_guide/indexing.html#returning-a-view-versus-a-copy\n",
      "  \n"
     ]
    }
   ],
   "source": [
    "data_df['text']=data_df['text'].apply(remove_stopwords)\n",
    "data_df['text']=data_df['text'].apply(word_lem)"
   ]
  },
  {
   "cell_type": "code",
   "execution_count": 18,
   "metadata": {},
   "outputs": [
    {
     "name": "stderr",
     "output_type": "stream",
     "text": [
      "C:\\Users\\Naveen\\Anaconda3\\lib\\site-packages\\ipykernel_launcher.py:1: SettingWithCopyWarning: \n",
      "A value is trying to be set on a copy of a slice from a DataFrame.\n",
      "Try using .loc[row_indexer,col_indexer] = value instead\n",
      "\n",
      "See the caveats in the documentation: http://pandas.pydata.org/pandas-docs/stable/user_guide/indexing.html#returning-a-view-versus-a-copy\n",
      "  \"\"\"Entry point for launching an IPython kernel.\n"
     ]
    }
   ],
   "source": [
    "data_df['text'] = data_df['text'].astype(str)"
   ]
  },
  {
   "cell_type": "code",
   "execution_count": 19,
   "metadata": {},
   "outputs": [],
   "source": [
    "#save clean data\n",
    "data_df.to_csv(r'clean_data', encoding='utf-8')"
   ]
  },
  {
   "cell_type": "code",
   "execution_count": 20,
   "metadata": {},
   "outputs": [],
   "source": [
    "issue_codes=pd.read_csv(r'issue_codes.csv',index_col=0)"
   ]
  },
  {
   "cell_type": "code",
   "execution_count": 21,
   "metadata": {},
   "outputs": [
    {
     "data": {
      "text/html": [
       "<div>\n",
       "<style scoped>\n",
       "    .dataframe tbody tr th:only-of-type {\n",
       "        vertical-align: middle;\n",
       "    }\n",
       "\n",
       "    .dataframe tbody tr th {\n",
       "        vertical-align: top;\n",
       "    }\n",
       "\n",
       "    .dataframe thead th {\n",
       "        text-align: right;\n",
       "    }\n",
       "</style>\n",
       "<table border=\"1\" class=\"dataframe\">\n",
       "  <thead>\n",
       "    <tr style=\"text-align: right;\">\n",
       "      <th></th>\n",
       "      <th>code</th>\n",
       "      <th>value</th>\n",
       "    </tr>\n",
       "  </thead>\n",
       "  <tbody>\n",
       "    <tr>\n",
       "      <td>0</td>\n",
       "      <td>100010</td>\n",
       "      <td>federal-state ownership dispute (cf. Submerged...</td>\n",
       "    </tr>\n",
       "    <tr>\n",
       "      <td>1</td>\n",
       "      <td>100020</td>\n",
       "      <td>federal pre-emption of state court jurisdiction</td>\n",
       "    </tr>\n",
       "    <tr>\n",
       "      <td>2</td>\n",
       "      <td>100030</td>\n",
       "      <td>federal pre-emption of state legislation or re...</td>\n",
       "    </tr>\n",
       "    <tr>\n",
       "      <td>3</td>\n",
       "      <td>100040</td>\n",
       "      <td>Submerged Lands Act (cf. federal-state ownersh...</td>\n",
       "    </tr>\n",
       "    <tr>\n",
       "      <td>4</td>\n",
       "      <td>100050</td>\n",
       "      <td>national supremacy: commodities</td>\n",
       "    </tr>\n",
       "  </tbody>\n",
       "</table>\n",
       "</div>"
      ],
      "text/plain": [
       "     code                                              value\n",
       "0  100010  federal-state ownership dispute (cf. Submerged...\n",
       "1  100020    federal pre-emption of state court jurisdiction\n",
       "2  100030  federal pre-emption of state legislation or re...\n",
       "3  100040  Submerged Lands Act (cf. federal-state ownersh...\n",
       "4  100050                    national supremacy: commodities"
      ]
     },
     "execution_count": 21,
     "metadata": {},
     "output_type": "execute_result"
    }
   ],
   "source": [
    "issue_codes.head()"
   ]
  },
  {
   "cell_type": "code",
   "execution_count": 22,
   "metadata": {},
   "outputs": [],
   "source": [
    "issue_label=np.arange(len(issue_codes['code']))"
   ]
  },
  {
   "cell_type": "code",
   "execution_count": 23,
   "metadata": {},
   "outputs": [],
   "source": [
    "issue_codes['issue_label']=issue_label"
   ]
  },
  {
   "cell_type": "code",
   "execution_count": 25,
   "metadata": {},
   "outputs": [],
   "source": [
    "issue_codes=issue_codes[['code','issue_label']]"
   ]
  },
  {
   "cell_type": "code",
   "execution_count": 26,
   "metadata": {},
   "outputs": [],
   "source": [
    "data_df=data_df.merge(issue_codes,how='left',left_on='issue',right_on='code')"
   ]
  },
  {
   "cell_type": "code",
   "execution_count": 27,
   "metadata": {},
   "outputs": [
    {
     "data": {
      "text/html": [
       "<div>\n",
       "<style scoped>\n",
       "    .dataframe tbody tr th:only-of-type {\n",
       "        vertical-align: middle;\n",
       "    }\n",
       "\n",
       "    .dataframe tbody tr th {\n",
       "        vertical-align: top;\n",
       "    }\n",
       "\n",
       "    .dataframe thead th {\n",
       "        text-align: right;\n",
       "    }\n",
       "</style>\n",
       "<table border=\"1\" class=\"dataframe\">\n",
       "  <thead>\n",
       "    <tr style=\"text-align: right;\">\n",
       "      <th></th>\n",
       "      <th>issue</th>\n",
       "      <th>issue_area</th>\n",
       "      <th>flag</th>\n",
       "      <th>text</th>\n",
       "      <th>issue_label</th>\n",
       "    </tr>\n",
       "  </thead>\n",
       "  <tbody>\n",
       "    <tr>\n",
       "      <td>0</td>\n",
       "      <td>30130</td>\n",
       "      <td>3</td>\n",
       "      <td>train</td>\n",
       "      <td>sol gen erwin n griswold appellant john g flym...</td>\n",
       "      <td>146.0</td>\n",
       "    </tr>\n",
       "    <tr>\n",
       "      <td>1</td>\n",
       "      <td>90380</td>\n",
       "      <td>9</td>\n",
       "      <td>train</td>\n",
       "      <td>appeal supreme court state oklahoma messrs rob...</td>\n",
       "      <td>263.0</td>\n",
       "    </tr>\n",
       "    <tr>\n",
       "      <td>2</td>\n",
       "      <td>100030</td>\n",
       "      <td>10</td>\n",
       "      <td>train</td>\n",
       "      <td>army sergeant ridgway first wife april granted...</td>\n",
       "      <td>2.0</td>\n",
       "    </tr>\n",
       "    <tr>\n",
       "      <td>3</td>\n",
       "      <td>10120</td>\n",
       "      <td>1</td>\n",
       "      <td>train</td>\n",
       "      <td>respondent arrested arraigned committed jail d...</td>\n",
       "      <td>24.0</td>\n",
       "    </tr>\n",
       "    <tr>\n",
       "      <td>4</td>\n",
       "      <td>20250</td>\n",
       "      <td>2</td>\n",
       "      <td>train</td>\n",
       "      <td>petitioner veteran entitled benefit veteran pr...</td>\n",
       "      <td>117.0</td>\n",
       "    </tr>\n",
       "  </tbody>\n",
       "</table>\n",
       "</div>"
      ],
      "text/plain": [
       "    issue  issue_area   flag  \\\n",
       "0   30130           3  train   \n",
       "1   90380           9  train   \n",
       "2  100030          10  train   \n",
       "3   10120           1  train   \n",
       "4   20250           2  train   \n",
       "\n",
       "                                                text  issue_label  \n",
       "0  sol gen erwin n griswold appellant john g flym...        146.0  \n",
       "1  appeal supreme court state oklahoma messrs rob...        263.0  \n",
       "2  army sergeant ridgway first wife april granted...          2.0  \n",
       "3  respondent arrested arraigned committed jail d...         24.0  \n",
       "4  petitioner veteran entitled benefit veteran pr...        117.0  "
      ]
     },
     "execution_count": 27,
     "metadata": {},
     "output_type": "execute_result"
    }
   ],
   "source": [
    "data_df=data_df.drop(columns=['code'])\n",
    "data_df.head()"
   ]
  },
  {
   "cell_type": "code",
   "execution_count": 28,
   "metadata": {},
   "outputs": [],
   "source": [
    "data_df['issue_label']=data_df['issue_label'].replace(np.nan,'-1')\n",
    "data_df['issue_label'] = data_df['issue_label'].astype(int)"
   ]
  },
  {
   "cell_type": "code",
   "execution_count": 29,
   "metadata": {},
   "outputs": [],
   "source": [
    "train_data_df=data_df[data_df['flag']=='train']\n",
    "test_data_df=data_df[data_df['flag']=='test']"
   ]
  },
  {
   "cell_type": "code",
   "execution_count": 30,
   "metadata": {},
   "outputs": [
    {
     "data": {
      "text/html": [
       "<div>\n",
       "<style scoped>\n",
       "    .dataframe tbody tr th:only-of-type {\n",
       "        vertical-align: middle;\n",
       "    }\n",
       "\n",
       "    .dataframe tbody tr th {\n",
       "        vertical-align: top;\n",
       "    }\n",
       "\n",
       "    .dataframe thead th {\n",
       "        text-align: right;\n",
       "    }\n",
       "</style>\n",
       "<table border=\"1\" class=\"dataframe\">\n",
       "  <thead>\n",
       "    <tr style=\"text-align: right;\">\n",
       "      <th></th>\n",
       "      <th>issue</th>\n",
       "      <th>issue_area</th>\n",
       "      <th>flag</th>\n",
       "      <th>text</th>\n",
       "      <th>issue_label</th>\n",
       "    </tr>\n",
       "  </thead>\n",
       "  <tbody>\n",
       "    <tr>\n",
       "      <td>0</td>\n",
       "      <td>30130</td>\n",
       "      <td>3</td>\n",
       "      <td>train</td>\n",
       "      <td>sol gen erwin n griswold appellant john g flym...</td>\n",
       "      <td>146</td>\n",
       "    </tr>\n",
       "    <tr>\n",
       "      <td>1</td>\n",
       "      <td>90380</td>\n",
       "      <td>9</td>\n",
       "      <td>train</td>\n",
       "      <td>appeal supreme court state oklahoma messrs rob...</td>\n",
       "      <td>263</td>\n",
       "    </tr>\n",
       "    <tr>\n",
       "      <td>2</td>\n",
       "      <td>100030</td>\n",
       "      <td>10</td>\n",
       "      <td>train</td>\n",
       "      <td>army sergeant ridgway first wife april granted...</td>\n",
       "      <td>2</td>\n",
       "    </tr>\n",
       "    <tr>\n",
       "      <td>3</td>\n",
       "      <td>10120</td>\n",
       "      <td>1</td>\n",
       "      <td>train</td>\n",
       "      <td>respondent arrested arraigned committed jail d...</td>\n",
       "      <td>24</td>\n",
       "    </tr>\n",
       "    <tr>\n",
       "      <td>4</td>\n",
       "      <td>20250</td>\n",
       "      <td>2</td>\n",
       "      <td>train</td>\n",
       "      <td>petitioner veteran entitled benefit veteran pr...</td>\n",
       "      <td>117</td>\n",
       "    </tr>\n",
       "  </tbody>\n",
       "</table>\n",
       "</div>"
      ],
      "text/plain": [
       "    issue  issue_area   flag  \\\n",
       "0   30130           3  train   \n",
       "1   90380           9  train   \n",
       "2  100030          10  train   \n",
       "3   10120           1  train   \n",
       "4   20250           2  train   \n",
       "\n",
       "                                                text  issue_label  \n",
       "0  sol gen erwin n griswold appellant john g flym...          146  \n",
       "1  appeal supreme court state oklahoma messrs rob...          263  \n",
       "2  army sergeant ridgway first wife april granted...            2  \n",
       "3  respondent arrested arraigned committed jail d...           24  \n",
       "4  petitioner veteran entitled benefit veteran pr...          117  "
      ]
     },
     "execution_count": 30,
     "metadata": {},
     "output_type": "execute_result"
    }
   ],
   "source": [
    "train_data_df.head()"
   ]
  },
  {
   "cell_type": "code",
   "execution_count": 31,
   "metadata": {},
   "outputs": [],
   "source": [
    "train_text_list = train_data_df['text'].to_list()\n",
    "test_text_list = test_data_df['text'].to_list()"
   ]
  },
  {
   "cell_type": "code",
   "execution_count": 32,
   "metadata": {},
   "outputs": [],
   "source": [
    "corpus_list = []\n",
    "for text in train_text_list:\n",
    "    temp = text.split()\n",
    "    corpus_list.append(temp)\n",
    "for text in test_text_list:\n",
    "    temp = text.split()\n",
    "    corpus_list.append(temp)"
   ]
  },
  {
   "cell_type": "code",
   "execution_count": 34,
   "metadata": {},
   "outputs": [],
   "source": [
    "from gensim import corpora\n",
    "dictionary = corpora.Dictionary(corpus_list) "
   ]
  },
  {
   "cell_type": "code",
   "execution_count": 36,
   "metadata": {},
   "outputs": [],
   "source": [
    "corpus = [dictionary.doc2bow(text) for text in corpus_list] "
   ]
  },
  {
   "cell_type": "code",
   "execution_count": 42,
   "metadata": {},
   "outputs": [],
   "source": [
    "lda = models.LdaMulticore(corpus, num_topics=30, id2word=dictionary)\n",
    "corpus_lda = lda[corpus]"
   ]
  },
  {
   "cell_type": "code",
   "execution_count": 43,
   "metadata": {},
   "outputs": [
    {
     "name": "stdout",
     "output_type": "stream",
     "text": [
      "Topic: 0 \n",
      "Words: 0.019*\"court\" + 0.016*\"state\" + 0.009*\"v\" + 0.006*\"see\" + 0.005*\"case\" + 0.005*\"right\" + 0.005*\"federal\" + 0.005*\"footnote\" + 0.004*\"would\" + 0.004*\"petitioner\"\n",
      "Topic: 1 \n",
      "Words: 0.018*\"court\" + 0.011*\"state\" + 0.009*\"v\" + 0.007*\"case\" + 0.007*\"u\" + 0.005*\"would\" + 0.005*\"claim\" + 0.005*\"law\" + 0.005*\"united\" + 0.005*\"federal\"\n",
      "Topic: 2 \n",
      "Words: 0.013*\"court\" + 0.013*\"state\" + 0.009*\"v\" + 0.008*\"case\" + 0.006*\"u\" + 0.006*\"act\" + 0.006*\"would\" + 0.006*\"see\" + 0.005*\"c\" + 0.005*\"united\"\n",
      "Topic: 3 \n",
      "Words: 0.014*\"court\" + 0.013*\"state\" + 0.012*\"v\" + 0.007*\"case\" + 0.007*\"u\" + 0.006*\"act\" + 0.006*\"would\" + 0.005*\"law\" + 0.005*\"c\" + 0.005*\"footnote\"\n",
      "Topic: 4 \n",
      "Words: 0.017*\"court\" + 0.017*\"state\" + 0.010*\"v\" + 0.008*\"case\" + 0.007*\"would\" + 0.006*\"law\" + 0.005*\"u\" + 0.005*\"footnote\" + 0.004*\"see\" + 0.004*\"act\"\n",
      "Topic: 5 \n",
      "Words: 0.018*\"court\" + 0.010*\"v\" + 0.008*\"state\" + 0.006*\"case\" + 0.006*\"u\" + 0.005*\"united\" + 0.005*\"see\" + 0.005*\"district\" + 0.005*\"c\" + 0.004*\"would\"\n",
      "Topic: 6 \n",
      "Words: 0.021*\"court\" + 0.014*\"v\" + 0.014*\"state\" + 0.009*\"case\" + 0.006*\"law\" + 0.006*\"see\" + 0.006*\"u\" + 0.006*\"would\" + 0.005*\"c\" + 0.004*\"may\"\n",
      "Topic: 7 \n",
      "Words: 0.015*\"court\" + 0.010*\"v\" + 0.010*\"state\" + 0.007*\"u\" + 0.006*\"act\" + 0.005*\"case\" + 0.005*\"would\" + 0.004*\"federal\" + 0.004*\"law\" + 0.004*\"see\"\n",
      "Topic: 8 \n",
      "Words: 0.014*\"court\" + 0.012*\"state\" + 0.012*\"v\" + 0.008*\"act\" + 0.007*\"u\" + 0.006*\"see\" + 0.006*\"would\" + 0.005*\"case\" + 0.005*\"footnote\" + 0.005*\"federal\"\n",
      "Topic: 9 \n",
      "Words: 0.018*\"court\" + 0.012*\"v\" + 0.012*\"state\" + 0.007*\"case\" + 0.006*\"see\" + 0.006*\"u\" + 0.005*\"act\" + 0.005*\"footnote\" + 0.004*\"rule\" + 0.004*\"law\"\n",
      "Topic: 10 \n",
      "Words: 0.014*\"court\" + 0.012*\"v\" + 0.012*\"state\" + 0.006*\"u\" + 0.006*\"law\" + 0.005*\"act\" + 0.005*\"case\" + 0.005*\"see\" + 0.005*\"would\" + 0.005*\"may\"\n",
      "Topic: 11 \n",
      "Words: 0.018*\"state\" + 0.017*\"court\" + 0.014*\"v\" + 0.007*\"case\" + 0.007*\"u\" + 0.006*\"see\" + 0.006*\"law\" + 0.006*\"would\" + 0.005*\"federal\" + 0.004*\"footnote\"\n",
      "Topic: 12 \n",
      "Words: 0.016*\"state\" + 0.012*\"court\" + 0.010*\"v\" + 0.008*\"u\" + 0.007*\"case\" + 0.006*\"see\" + 0.005*\"would\" + 0.005*\"footnote\" + 0.004*\"c\" + 0.004*\"congress\"\n",
      "Topic: 13 \n",
      "Words: 0.017*\"state\" + 0.016*\"court\" + 0.011*\"v\" + 0.008*\"see\" + 0.007*\"u\" + 0.006*\"law\" + 0.006*\"case\" + 0.005*\"act\" + 0.005*\"federal\" + 0.005*\"would\"\n",
      "Topic: 14 \n",
      "Words: 0.013*\"state\" + 0.012*\"court\" + 0.008*\"v\" + 0.007*\"case\" + 0.006*\"see\" + 0.006*\"u\" + 0.006*\"act\" + 0.006*\"would\" + 0.005*\"federal\" + 0.005*\"law\"\n",
      "Topic: 15 \n",
      "Words: 0.014*\"state\" + 0.012*\"court\" + 0.010*\"v\" + 0.008*\"see\" + 0.006*\"case\" + 0.006*\"footnote\" + 0.005*\"u\" + 0.005*\"would\" + 0.004*\"right\" + 0.004*\"c\"\n",
      "Topic: 16 \n",
      "Words: 0.017*\"court\" + 0.014*\"state\" + 0.012*\"v\" + 0.006*\"case\" + 0.006*\"united\" + 0.006*\"see\" + 0.005*\"u\" + 0.005*\"federal\" + 0.005*\"c\" + 0.005*\"may\"\n",
      "Topic: 17 \n",
      "Words: 0.018*\"court\" + 0.016*\"state\" + 0.009*\"v\" + 0.007*\"case\" + 0.007*\"footnote\" + 0.005*\"federal\" + 0.005*\"see\" + 0.005*\"would\" + 0.005*\"u\" + 0.005*\"act\"\n",
      "Topic: 18 \n",
      "Words: 0.017*\"court\" + 0.009*\"v\" + 0.008*\"state\" + 0.006*\"u\" + 0.006*\"would\" + 0.006*\"case\" + 0.006*\"see\" + 0.005*\"c\" + 0.005*\"act\" + 0.005*\"may\"\n",
      "Topic: 19 \n",
      "Words: 0.020*\"court\" + 0.014*\"v\" + 0.012*\"state\" + 0.007*\"case\" + 0.007*\"u\" + 0.006*\"law\" + 0.005*\"footnote\" + 0.005*\"see\" + 0.005*\"united\" + 0.005*\"district\"\n",
      "Topic: 20 \n",
      "Words: 0.018*\"court\" + 0.014*\"state\" + 0.010*\"v\" + 0.007*\"act\" + 0.007*\"u\" + 0.007*\"case\" + 0.006*\"law\" + 0.005*\"would\" + 0.005*\"see\" + 0.005*\"federal\"\n",
      "Topic: 21 \n",
      "Words: 0.016*\"court\" + 0.011*\"v\" + 0.011*\"state\" + 0.008*\"act\" + 0.007*\"case\" + 0.006*\"see\" + 0.006*\"c\" + 0.005*\"u\" + 0.005*\"federal\" + 0.005*\"would\"\n",
      "Topic: 22 \n",
      "Words: 0.017*\"court\" + 0.010*\"state\" + 0.009*\"v\" + 0.007*\"case\" + 0.007*\"would\" + 0.006*\"u\" + 0.006*\"see\" + 0.006*\"law\" + 0.005*\"footnote\" + 0.004*\"federal\"\n",
      "Topic: 23 \n",
      "Words: 0.014*\"court\" + 0.012*\"state\" + 0.010*\"v\" + 0.006*\"u\" + 0.006*\"see\" + 0.006*\"case\" + 0.005*\"footnote\" + 0.005*\"united\" + 0.005*\"c\" + 0.004*\"would\"\n",
      "Topic: 24 \n",
      "Words: 0.016*\"court\" + 0.013*\"v\" + 0.012*\"state\" + 0.008*\"united\" + 0.007*\"case\" + 0.006*\"see\" + 0.006*\"u\" + 0.005*\"petitioner\" + 0.005*\"would\" + 0.005*\"act\"\n",
      "Topic: 25 \n",
      "Words: 0.017*\"court\" + 0.014*\"state\" + 0.011*\"v\" + 0.007*\"district\" + 0.007*\"u\" + 0.006*\"case\" + 0.006*\"see\" + 0.005*\"would\" + 0.005*\"united\" + 0.005*\"law\"\n",
      "Topic: 26 \n",
      "Words: 0.015*\"court\" + 0.012*\"state\" + 0.010*\"v\" + 0.006*\"see\" + 0.006*\"case\" + 0.006*\"u\" + 0.005*\"would\" + 0.005*\"federal\" + 0.005*\"law\" + 0.005*\"footnote\"\n",
      "Topic: 27 \n",
      "Words: 0.015*\"court\" + 0.011*\"state\" + 0.008*\"case\" + 0.007*\"v\" + 0.007*\"u\" + 0.006*\"would\" + 0.006*\"see\" + 0.005*\"c\" + 0.005*\"may\" + 0.005*\"law\"\n",
      "Topic: 28 \n",
      "Words: 0.019*\"court\" + 0.011*\"v\" + 0.009*\"state\" + 0.007*\"u\" + 0.007*\"see\" + 0.006*\"case\" + 0.005*\"c\" + 0.005*\"act\" + 0.005*\"law\" + 0.005*\"footnote\"\n",
      "Topic: 29 \n",
      "Words: 0.018*\"court\" + 0.017*\"state\" + 0.010*\"v\" + 0.008*\"case\" + 0.006*\"u\" + 0.006*\"see\" + 0.005*\"united\" + 0.005*\"would\" + 0.005*\"c\" + 0.005*\"may\"\n"
     ]
    }
   ],
   "source": [
    "for idx, topic in lda.print_topics(-1):\n",
    "    print('Topic: {} \\nWords: {}'.format(idx, topic))"
   ]
  },
  {
   "cell_type": "code",
   "execution_count": 45,
   "metadata": {},
   "outputs": [],
   "source": [
    "train = []\n",
    "for i in range(len(corpus)):\n",
    "    top_topics = (\n",
    "        lda.get_document_topics(corpus[i],\n",
    "                                      minimum_probability=0.0)\n",
    "    )    \n",
    "    topic = [top_topics[i][1] for i in range(30)]\n",
    "    train.append(topic)"
   ]
  },
  {
   "cell_type": "code",
   "execution_count": 46,
   "metadata": {},
   "outputs": [],
   "source": [
    "X = np.array(train_vecs)"
   ]
  },
  {
   "cell_type": "code",
   "execution_count": 48,
   "metadata": {},
   "outputs": [
    {
     "data": {
      "text/plain": [
       "14"
      ]
     },
     "execution_count": 48,
     "metadata": {},
     "output_type": "execute_result"
    }
   ],
   "source": [
    "issue_labels_list = train_data_df['issue_area'].to_list()\n",
    "issue_labels_list += test_data_df['issue_area'].to_list()\n",
    "y = np.array(issue_labels_list)"
   ]
  },
  {
   "cell_type": "code",
   "execution_count": 49,
   "metadata": {},
   "outputs": [
    {
     "name": "stdout",
     "output_type": "stream",
     "text": [
      "Training data\n",
      "(5388, 30)\n",
      "(5388,)\n",
      "Test data\n",
      "(1684, 30)\n",
      "(1684,)\n"
     ]
    }
   ],
   "source": [
    "X_train, X_test, y_train, y_test = train_test_split(X, y, test_size=0.2)\n",
    "X_train, X_val, y_train, y_val = train_test_split(X_train, y_train, test_size=0.2)"
   ]
  },
  {
   "cell_type": "code",
   "execution_count": 51,
   "metadata": {},
   "outputs": [
    {
     "name": "stderr",
     "output_type": "stream",
     "text": [
      "C:\\Users\\Naveen\\Anaconda3\\lib\\site-packages\\sklearn\\linear_model\\_logistic.py:939: ConvergenceWarning: lbfgs failed to converge (status=1):\n",
      "STOP: TOTAL NO. of ITERATIONS REACHED LIMIT.\n",
      "\n",
      "Increase the number of iterations (max_iter) or scale the data as shown in:\n",
      "    https://scikit-learn.org/stable/modules/preprocessing.html.\n",
      "Please also refer to the documentation for alternative solver options:\n",
      "    https://scikit-learn.org/stable/modules/linear_model.html#logistic-regression\n",
      "  extra_warning_msg=_LOGISTIC_SOLVER_CONVERGENCE_MSG)\n"
     ]
    }
   ],
   "source": [
    "model_lr = LogisticRegression()\n",
    "model_lr.fit(X_train,y_train)\n",
    "y_pred_lr=model_lr.predict(X_test)"
   ]
  },
  {
   "cell_type": "code",
   "execution_count": 52,
   "metadata": {},
   "outputs": [
    {
     "name": "stdout",
     "output_type": "stream",
     "text": [
      "Testing accuracy 0.5106888361045131\n",
      "Testing F1 score: 0.47024157270505873\n"
     ]
    }
   ],
   "source": [
    "print('Testing accuracy %s' % accuracy_score(y_test, y_pred_lr))\n",
    "print('Testing F1 score: {}'.format(f1_score(y_test, y_pred_lr, average='weighted')))"
   ]
  },
  {
   "cell_type": "code",
   "execution_count": 65,
   "metadata": {},
   "outputs": [
    {
     "name": "stdout",
     "output_type": "stream",
     "text": [
      "              precision    recall  f1-score   support\n",
      "\n",
      "           0       0.00      0.00      0.00         0\n",
      "           1       0.60      0.85      0.70       321\n",
      "           2       0.51      0.54      0.52       212\n",
      "           3       0.52      0.34      0.41       114\n",
      "           4       0.00      0.00      0.00        51\n",
      "           5       0.00      0.00      0.00        14\n",
      "           6       0.00      0.00      0.00        17\n",
      "           7       0.64      0.60      0.62        47\n",
      "           8       0.43      0.65      0.52       276\n",
      "           9       0.48      0.29      0.36       174\n",
      "          10       0.00      0.00      0.00        59\n",
      "          11       0.00      0.00      0.00         9\n",
      "          12       0.68      0.29      0.41        45\n",
      "          13       0.00      0.00      0.00         3\n",
      "          14       0.00      0.00      0.00         0\n",
      "\n",
      "   micro avg       0.52      0.52      0.52      1342\n",
      "   macro avg       0.26      0.24      0.24      1342\n",
      "weighted avg       0.46      0.52      0.47      1342\n",
      "\n"
     ]
    },
    {
     "name": "stderr",
     "output_type": "stream",
     "text": [
      "C:\\Users\\Naveen\\Anaconda3\\lib\\site-packages\\sklearn\\metrics\\_classification.py:1268: UndefinedMetricWarning: Precision and F-score are ill-defined and being set to 0.0 in labels with no predicted samples. Use `zero_division` parameter to control this behavior.\n",
      "  _warn_prf(average, modifier, msg_start, len(result))\n",
      "C:\\Users\\Naveen\\Anaconda3\\lib\\site-packages\\sklearn\\metrics\\_classification.py:1268: UndefinedMetricWarning: Recall and F-score are ill-defined and being set to 0.0 in labels with no true samples. Use `zero_division` parameter to control this behavior.\n",
      "  _warn_prf(average, modifier, msg_start, len(result))\n"
     ]
    }
   ],
   "source": [
    "report = classification_report(y_val, model_lr.predict(X_val), labels=np.arange(len(issue_area_code)))\n",
    "print(report)"
   ]
  },
  {
   "cell_type": "code",
   "execution_count": 67,
   "metadata": {},
   "outputs": [
    {
     "name": "stdout",
     "output_type": "stream",
     "text": [
      "Logistic Regression Result\n",
      "[[  0   1   1   0   0   0   0   0   2   1   0   0   0   0]\n",
      " [  0 321   7   6   0   0   0   2  32  19   0   0   2   0]\n",
      " [  0  68 143   7   0   0   1   2  38  19   0   0   1   0]\n",
      " [  0  25  23  67   0   0   1   0   8   2   0   0   0   0]\n",
      " [  0  24   9   3   0   0   0   0  28   6   0   0   0   0]\n",
      " [  0   3   5   6   0   0   0   0   9   2   0   0   0   0]\n",
      " [  0   1  12   1   0   0   2   0   3   1   0   0   1   0]\n",
      " [  0   6   1   1   0   0   0  33  24   5   0   0   1   0]\n",
      " [  0  55  19   5   0   0   1   5 199  29   0   0   1   0]\n",
      " [  0  44  36   5   0   0   0   6  64  72   0   0   1   0]\n",
      " [  0   1   6   2   0   0   0   7  42  12   0   0   1   0]\n",
      " [  0   5   0   1   0   0   0   0   4   6   0   0   0   0]\n",
      " [  0   7   1   0   0   0   0   1  32   1   0   0  23   0]\n",
      " [  0   0   0   0   0   0   0   0   4   0   0   0   0   0]]\n"
     ]
    },
    {
     "data": {
      "image/png": "[encoded data removed]",
      "text/plain": [
       "<Figure size 432x288 with 2 Axes>"
      ]
     },
     "metadata": {
      "needs_background": "light"
     },
     "output_type": "display_data"
    }
   ],
   "source": [
    "confusion_matrix(y_test, y_pred_lr)\n",
    "\n",
    "disp = plot_confusion_matrix(model_lr, X_test, y_test,\n",
    "                                 cmap=plt.cm.Blues)\n",
    "disp.ax_.set_title(\"Logistic Regression Result\")\n",
    "\n",
    "print(\"Logistic Regression Result\")\n",
    "print(disp.confusion_matrix)"
   ]
  }
 ],
 "metadata": {
  "kernelspec": {
   "display_name": "Python 3",
   "language": "python",
   "name": "python3"
  },
  "language_info": {
   "codemirror_mode": {
    "name": "ipython",
    "version": 3
   },
   "file_extension": ".py",
   "mimetype": "text/x-python",
   "name": "python",
   "nbconvert_exporter": "python",
   "pygments_lexer": "ipython3",
   "version": "3.7.4"
  }
 },
 "nbformat": 4,
 "nbformat_minor": 2
}
